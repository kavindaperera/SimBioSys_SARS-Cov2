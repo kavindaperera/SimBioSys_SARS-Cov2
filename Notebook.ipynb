{
 "cells": [
  {
   "cell_type": "code",
   "execution_count": 64,
   "metadata": {},
   "outputs": [],
   "source": [
    "import pandas as pd\n",
    "import numpy as np\n",
    "from Bio import SeqIO\n",
    "from Bio import Entrez"
   ]
  },
  {
   "cell_type": "code",
   "execution_count": 65,
   "metadata": {},
   "outputs": [],
   "source": [
    "# ncbi_accession_ids = ['MT019529.1', 'GU190215.1', 'KJ473815.1', 'GQ153547.1', 'MN996532.1']\n",
    "\n",
    "ncbi_accession_ids = ['RaTG13',      'PCov-GX',   'SARS-CoV-1',    'MERS',    'HCov-229E', 'HCoV-OC43','HCoV-HKU1', 'HCoV-NL63']\n",
    "\n",
    "ncbi_accession_ids = ['MN996532.2', 'MT072864.1', 'MT040334.1', 'KT029139.1', 'MH940245.1','AB691767.2','AY391777.1','NC_005831.2','MT019529.1','MG772934.1','MG772933.1']\n"
   ]
  },
  {
   "cell_type": "code",
   "execution_count": 66,
   "metadata": {},
   "outputs": [],
   "source": [
    "Entrez.email='kavindaperera97@gmail.com'"
   ]
  },
  {
   "cell_type": "code",
   "execution_count": 67,
   "metadata": {},
   "outputs": [
    {
     "name": "stdout",
     "output_type": "stream",
     "text": [
      "MN996532.2\n",
      "Bat coronavirus RaTG13, complete genome\n",
      "Bat coronavirus RaTG13 ✔️\n",
      "============================\n",
      "MT072864.1\n",
      "Pangolin coronavirus isolate PCoV_GX-P2V, complete genome\n",
      "Pangolin coronavirus ✔️\n",
      "============================\n",
      "MT040334.1\n",
      "Pangolin coronavirus isolate PCoV_GX-P1E, complete genome\n",
      "Pangolin coronavirus ✔️\n",
      "============================\n",
      "KT029139.1\n",
      "Middle East respiratory syndrome coronavirus isolate MERS-CoV/KOR/KNIH/002_05_2015, complete genome\n",
      "Middle East respiratory syndrome-related coronavirus (MERS-CoV) ✔️\n",
      "============================\n",
      "MH940245.1\n",
      "Human coronavirus HKU1 isolate SI17244, complete genome\n",
      "Human coronavirus HKU1 (HCoV-HKU1) ✔️\n",
      "============================\n",
      "AB691767.2\n",
      "Human coronavirus 229E Niigata/01/08 RNA, complete genome\n",
      "Human coronavirus 229E ✔️\n",
      "============================\n",
      "AY391777.1\n",
      "Human coronavirus OC43, complete genome\n",
      "Human coronavirus OC43 (HCoV-OC43) ✔️\n",
      "============================\n",
      "NC_005831.2\n",
      "Human Coronavirus NL63, complete genome\n",
      "Human coronavirus NL63 (HCoV-NL63) ✔️\n",
      "============================\n",
      "MT019529.1\n",
      "Severe acute respiratory syndrome coronavirus 2 isolate BetaCoV/Wuhan/IPBCAMS-WH-01/2019, complete genome\n",
      "Severe acute respiratory syndrome coronavirus 2 (SARS-CoV-2) ✔️\n",
      "============================\n",
      "MG772934.1\n",
      "Bat SARS-like coronavirus isolate bat-SL-CoVZXC21, complete genome\n",
      "Bat SARS-like coronavirus ✔️\n",
      "============================\n",
      "MG772933.1\n",
      "Bat SARS-like coronavirus isolate bat-SL-CoVZC45, complete genome\n",
      "Bat SARS-like coronavirus ✔️\n",
      "============================\n"
     ]
    }
   ],
   "source": [
    "genomes = []\n",
    "for id in ncbi_accession_ids:\n",
    "    print(id)\n",
    "    handle = Entrez.efetch(db='nucleotide', id=id, rettype='gb')\n",
    "    record = SeqIO.read(handle, \"genbank\")\n",
    "    handle.close()\n",
    "    print(record.description)\n",
    "    genomes.append(record)\n",
    "    print(record.annotations['source'] + \" ✔️\")\n",
    "    print(\"============================\")"
   ]
  },
  {
   "cell_type": "code",
   "execution_count": 68,
   "metadata": {},
   "outputs": [
    {
     "data": {
      "text/plain": [
       "11"
      ]
     },
     "execution_count": 68,
     "metadata": {},
     "output_type": "execute_result"
    }
   ],
   "source": [
    "SeqIO.write(genomes, \"./complete_genomes.fasta\", \"fasta\")"
   ]
  },
  {
   "cell_type": "code",
   "execution_count": 69,
   "metadata": {},
   "outputs": [],
   "source": [
    "characteristic_genes = ['orf1ab', 'spike', 'orf3a', 'orf3b', 'envelope', 'membrane', 'orf7a', 'orf7b', 'orf8', 'nucleocapsid', 'surface glycoprotein', 's protein','replicase polyprotein','non-structural polyprotein 1ab']"
   ]
  },
  {
   "cell_type": "code",
   "execution_count": 70,
   "metadata": {},
   "outputs": [],
   "source": [
    "characteristic_genes_dict = {'orf1ab':[], 'spike':[],  'orf3a':[], 'orf3b':[], 'envelope':[], 'membrane':[], 'orf7a':[], 'orf7b':[], 'orf8':[], 'nucleocapsid':[],}"
   ]
  },
  {
   "cell_type": "code",
   "execution_count": 71,
   "metadata": {},
   "outputs": [
    {
     "name": "stdout",
     "output_type": "stream",
     "text": [
      "MN996532.2\n",
      "orf1ab polyprotein ✔️\n",
      "spike glycoprotein ✔️\n",
      "envelope protein ✔️\n",
      "membrane protein ✔️\n",
      "nucleocapsid protein ✔️\n",
      "=======================\n",
      "MT072864.1\n",
      "orf1ab polyprotein ✔️\n",
      "spike protein ✔️\n",
      "envelope protein ✔️\n",
      "membrane protein ✔️\n",
      "orf7a protein ✔️\n",
      "orf7b protein ✔️\n",
      "orf8 protein ✔️\n",
      "nucleocapsid protein ✔️\n",
      "=======================\n",
      "MT040334.1\n",
      "orf1ab polyprotein ✔️\n",
      "spike protein ✔️\n",
      "orf3a protein ✔️\n",
      "envelope protein ✔️\n",
      "orf7a protein ✔️\n",
      "orf8 protein ✔️\n",
      "nucleocapsid phosphoprotein ✔️\n",
      "=======================\n",
      "KT029139.1\n",
      "orf1ab ✔️\n",
      "spike protein ✔️\n",
      "envelope protein ✔️\n",
      "membrane protein ✔️\n",
      "=======================\n",
      "MH940245.1\n",
      "orf1ab polyprotein ✔️\n",
      "spike glycoprotein ✔️\n",
      "small membrane protein ✔️\n",
      "membrane glycoprotein ✔️\n",
      "nucleocapsid phosphoprotein ✔️\n",
      "=======================\n",
      "AB691767.2\n",
      "orf1ab polyprotein ✔️\n",
      "spike protein ✔️\n",
      "envelope protein ✔️\n",
      "membrane protein ✔️\n",
      "nucleocapsid protein ✔️\n",
      "=======================\n",
      "AY391777.1\n",
      "replicase polyprotein ✔️\n",
      "s protein ✔️\n",
      "=======================\n",
      "NC_005831.2\n",
      "orf1ab polyprotein ✔️\n",
      "spike protein ✔️\n",
      "envelope protein ✔️\n",
      "membrane protein ✔️\n",
      "nucleocapsid protein ✔️\n",
      "=======================\n",
      "MT019529.1\n",
      "orf1ab polyprotein ✔️\n",
      "surface glycoprotein ✔️\n",
      "orf3a protein ✔️\n",
      "envelope protein ✔️\n",
      "membrane glycoprotein ✔️\n",
      "orf7a protein ✔️\n",
      "orf8 protein ✔️\n",
      "nucleocapsid phosphoprotein ✔️\n",
      "=======================\n",
      "MG772934.1\n",
      "spike protein ✔️\n",
      "envelope protein ✔️\n",
      "membrane protein ✔️\n",
      "nucleocapsid protein ✔️\n",
      "=======================\n",
      "MG772933.1\n",
      "spike protein ✔️\n",
      "envelope protein ✔️\n",
      "membrane protein ✔️\n",
      "nucleocapsid protein ✔️\n",
      "=======================\n"
     ]
    }
   ],
   "source": [
    "for id in ncbi_accession_ids:\n",
    "    print(id)\n",
    "    handle = Entrez.efetch(db='nucleotide', id=id, rettype='gb')\n",
    "    record = SeqIO.read(handle, \"genbank\")\n",
    "    handle.close()\n",
    "    for feature in record.features:\n",
    "        if(feature.type == 'CDS'):\n",
    "            gene = feature.qualifiers['product'][0].lower()\n",
    "            \n",
    "            for characteristic_gene in characteristic_genes:\n",
    "                if characteristic_gene in gene: \n",
    "                    entry = f\">{record.annotations['source']} ({id}) \\n\"\n",
    "                    entry = entry.replace(\" \",\"-\")\n",
    "                    entry += record.seq[feature.location.start : feature.location.end] \n",
    "                    \n",
    "                    # surface glycoprotein is the spike protien in SARS-Cov-2\n",
    "                    if characteristic_gene == \"surface glycoprotein\":\n",
    "                        characteristic_genes_dict[\"spike\"].append(entry)\n",
    "                        print(gene + \" ✔️\")\n",
    "                        break\n",
    "\n",
    "                    # S protein is the spike protein in HCoV-OC43\n",
    "                    if characteristic_gene == \"s protein\":\n",
    "                        characteristic_genes_dict[\"spike\"].append(entry)\n",
    "                        print(gene + \" ✔️\")\n",
    "                        break\n",
    "\n",
    "                    # replicase polyprotein is the orf1 in HCoV-OC43\n",
    "                    if characteristic_gene == \"replicase polyprotein\":\n",
    "                        characteristic_genes_dict[\"orf1ab\"].append(entry)\n",
    "                        print(gene + \" ✔️\")\n",
    "                        break\n",
    "\n",
    "                    # replicase polyprotein is the orf1 in HCoV-OC43\n",
    "                    if characteristic_gene == \"non-structural polyprotein 1ab\":\n",
    "                        characteristic_genes_dict[\"orf1ab\"].append(entry)\n",
    "                        print(gene + \" ✔️\")\n",
    "                        break\n",
    "                    \n",
    "\n",
    "                    characteristic_genes_dict[characteristic_gene].append(entry)    \n",
    "                    print(gene + \" ✔️\")\n",
    "                    break\n",
    "                    \n",
    "    print(\"=======================\")         \n"
   ]
  },
  {
   "cell_type": "code",
   "execution_count": 62,
   "metadata": {},
   "outputs": [
    {
     "data": {
      "text/plain": [
       "{'orf1ab': [Seq('>Bat-coronavirus-RaTG13-(MN996532.2)-\n",
       "  ATGGAGAGCCTTGTCC...TAA'),\n",
       "  Seq('>Pangolin-coronavirus-(MT072864.1)-\n",
       "  ATGGAGAGCCTTGTCCCT...TAA'),\n",
       "  Seq('>SARS-coronavirus-BJ01-(AY278488.2)-\n",
       "  ATGGAGAGCCTTGTTCT...TAA'),\n",
       "  Seq('>Middle-East-respiratory-syndrome-related-coronavirus-...TGA'),\n",
       "  Seq('>Human-coronavirus-229E-(AB691767.2)-\n",
       "  ATGGCCTGCAACCGTG...TAA'),\n",
       "  Seq('>Human-coronavirus-OC43-(HCoV-OC43)-(AY391777.1)-\n",
       "  ATGT...TAA'),\n",
       "  Seq('>Human-coronavirus-HKU1-(HCoV-HKU1)-(MH940245.1)-\n",
       "  ATGA...TAG'),\n",
       "  Seq('>Human-coronavirus-NL63-(HCoV-NL63)-(NC_005831.2)-\n",
       "  ATG...TGA')],\n",
       " 'spike': [Seq('>Bat-coronavirus-RaTG13-(MN996532.2)-\n",
       "  ATGTTTGTTTTTCTTG...TAA'),\n",
       "  Seq('>Pangolin-coronavirus-(MT072864.1)-\n",
       "  ATGTTTGTTTTTCTTTTT...TAA'),\n",
       "  Seq('>SARS-coronavirus-BJ01-(AY278488.2)-\n",
       "  ATGTTTATTTTCTTATT...TAA'),\n",
       "  Seq('>Middle-East-respiratory-syndrome-related-coronavirus-...TAA'),\n",
       "  Seq('>Human-coronavirus-229E-(AB691767.2)-\n",
       "  ATGTTTGTTTTACTTG...TAA'),\n",
       "  Seq('>Human-coronavirus-OC43-(HCoV-OC43)-(AY391777.1)-\n",
       "  ATGT...TAA'),\n",
       "  Seq('>Human-coronavirus-HKU1-(HCoV-HKU1)-(MH940245.1)-\n",
       "  ATGT...TAG'),\n",
       "  Seq('>Human-coronavirus-NL63-(HCoV-NL63)-(NC_005831.2)-\n",
       "  ATG...TAA')],\n",
       " 'orf3a': [],\n",
       " 'orf3b': [],\n",
       " 'envelope': [Seq('>Bat-coronavirus-RaTG13-(MN996532.2)-\n",
       "  ATGTACTCATTCGTTT...TAA'),\n",
       "  Seq('>Pangolin-coronavirus-(MT072864.1)-\n",
       "  ATGTACTCATTCGTTTCG...TAA'),\n",
       "  Seq('>SARS-coronavirus-BJ01-(AY278488.2)-\n",
       "  ATGTACTCATTCGTTTC...TAA'),\n",
       "  Seq('>Middle-East-respiratory-syndrome-related-coronavirus-...TAA'),\n",
       "  Seq('>Human-coronavirus-229E-(AB691767.2)-\n",
       "  ATGTTCCTTAAGCTAG...TAA'),\n",
       "  Seq('>Human-coronavirus-NL63-(HCoV-NL63)-(NC_005831.2)-\n",
       "  ATG...TAA')],\n",
       " 'membrane': [Seq('>Bat-coronavirus-RaTG13-(MN996532.2)-\n",
       "  ATGGCAGATAACGGTA...TAA'),\n",
       "  Seq('>Pangolin-coronavirus-(MT072864.1)-\n",
       "  ATGTCAGCTAACAACGGT...TAA'),\n",
       "  Seq('>SARS-coronavirus-BJ01-(AY278488.2)-\n",
       "  ATGGCAGACAACGGTAC...TAA'),\n",
       "  Seq('>Middle-East-respiratory-syndrome-related-coronavirus-...TAG'),\n",
       "  Seq('>Human-coronavirus-229E-(AB691767.2)-\n",
       "  ATGTCAAACGACAATT...TAA'),\n",
       "  Seq('>Human-coronavirus-HKU1-(HCoV-HKU1)-(MH940245.1)-\n",
       "  ATGG...TAA'),\n",
       "  Seq('>Human-coronavirus-HKU1-(HCoV-HKU1)-(MH940245.1)-\n",
       "  ATGA...TAA'),\n",
       "  Seq('>Human-coronavirus-NL63-(HCoV-NL63)-(NC_005831.2)-\n",
       "  ATG...TAA')],\n",
       " 'orf7a': [Seq('>Pangolin-coronavirus-(MT072864.1)-\n",
       "  ATGAAAATTATTCTTCTC...TGA')],\n",
       " 'orf7b': [Seq('>Pangolin-coronavirus-(MT072864.1)-\n",
       "  ATGAGTGAAATTACACTA...TAA')],\n",
       " 'orf8': [Seq('>Pangolin-coronavirus-(MT072864.1)-\n",
       "  ATGAAATTTCTTGTTTTA...TAA')],\n",
       " 'nucleocapsid': [Seq('>Bat-coronavirus-RaTG13-(MN996532.2)-\n",
       "  ATGTCTGATAATGGAC...TAA'),\n",
       "  Seq('>Pangolin-coronavirus-(MT072864.1)-\n",
       "  ATGTCTGATAATGGACCC...TAA'),\n",
       "  Seq('>SARS-coronavirus-BJ01-(AY278488.2)-\n",
       "  ATGTCTGATAATGGACC...TAA'),\n",
       "  Seq('>Human-coronavirus-229E-(AB691767.2)-\n",
       "  ATGGCTACAGTCAAAT...TAA'),\n",
       "  Seq('>Human-coronavirus-HKU1-(HCoV-HKU1)-(MH940245.1)-\n",
       "  ATGT...TAA'),\n",
       "  Seq('>Human-coronavirus-NL63-(HCoV-NL63)-(NC_005831.2)-\n",
       "  ATG...TAA')]}"
      ]
     },
     "execution_count": 62,
     "metadata": {},
     "output_type": "execute_result"
    }
   ],
   "source": [
    "characteristic_genes_dict"
   ]
  },
  {
   "cell_type": "code",
   "execution_count": 63,
   "metadata": {},
   "outputs": [
    {
     "name": "stdout",
     "output_type": "stream",
     "text": [
      "orf1ab | count: 8 ✔️\n",
      "spike | count: 8 ✔️\n",
      "orf3a | count: 0 ✔️\n",
      "orf3b | count: 0 ✔️\n",
      "envelope | count: 6 ✔️\n",
      "membrane | count: 8 ✔️\n",
      "orf7a | count: 1 ✔️\n",
      "orf7b | count: 1 ✔️\n",
      "orf8 | count: 1 ✔️\n",
      "nucleocapsid | count: 6 ✔️\n"
     ]
    }
   ],
   "source": [
    "for characteristic_gene, sequences in characteristic_genes_dict.items():\n",
    "    \n",
    "    results = \"\"\n",
    "    for sequence in sequences:\n",
    "        results += sequence + \"\\n\"\n",
    "    \n",
    "    file = open(f'./gene_sequences_new/{characteristic_gene}.fasta', \"w\")\n",
    "    file.write(str(results))\n",
    "    file.close()\n",
    "    print(characteristic_gene + \" | count: \" + str(len(sequences)) + \" ✔️\")"
   ]
  },
  {
   "cell_type": "code",
   "execution_count": null,
   "metadata": {},
   "outputs": [],
   "source": []
  }
 ],
 "metadata": {
  "interpreter": {
   "hash": "f7976576504ac6c456dadd405d7477574ca2a64265ee4724cfbc25daae5f6d94"
  },
  "kernelspec": {
   "display_name": "Python 3.9.10 64-bit",
   "language": "python",
   "name": "python3"
  },
  "language_info": {
   "codemirror_mode": {
    "name": "ipython",
    "version": 3
   },
   "file_extension": ".py",
   "mimetype": "text/x-python",
   "name": "python",
   "nbconvert_exporter": "python",
   "pygments_lexer": "ipython3",
   "version": "3.9.10"
  }
 },
 "nbformat": 4,
 "nbformat_minor": 4
}
