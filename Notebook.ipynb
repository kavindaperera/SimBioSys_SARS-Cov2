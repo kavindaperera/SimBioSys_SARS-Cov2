{
 "cells": [
  {
   "cell_type": "code",
   "execution_count": 1,
   "metadata": {},
   "outputs": [],
   "source": [
    "import pandas as pd\n",
    "import numpy as np\n",
    "from Bio import SeqIO\n",
    "from Bio import Entrez"
   ]
  },
  {
   "cell_type": "code",
   "execution_count": 2,
   "metadata": {},
   "outputs": [],
   "source": [
    "ncbi_accession_ids = ['NC_045512.2', 'MT371050.1', 'MT371049.1', 'MT371048.1', 'MT371047.1', 'MZ801830.1', 'OK035181.1']"
   ]
  },
  {
   "cell_type": "code",
   "execution_count": 3,
   "metadata": {},
   "outputs": [],
   "source": [
    "Entrez.email='kavindaperera97@gmail.com'"
   ]
  },
  {
   "cell_type": "code",
   "execution_count": 4,
   "metadata": {},
   "outputs": [
    {
     "name": "stdout",
     "output_type": "stream",
     "text": [
      "NC_045512.2\n",
      "Severe acute respiratory syndrome coronavirus 2 isolate Wuhan-Hu-1, complete genome\n",
      "Severe acute respiratory syndrome coronavirus 2 (SARS-CoV-2) ✔️\n",
      "============================\n",
      "MT371050.1\n",
      "Severe acute respiratory syndrome coronavirus 2 isolate SARS-CoV-2/human/LKA/COV486/2020, complete genome\n",
      "Severe acute respiratory syndrome coronavirus 2 (SARS-CoV-2) ✔️\n",
      "============================\n",
      "MT371049.1\n",
      "Severe acute respiratory syndrome coronavirus 2 isolate SARS-CoV-2/human/LKA/COV91/2020, complete genome\n",
      "Severe acute respiratory syndrome coronavirus 2 (SARS-CoV-2) ✔️\n",
      "============================\n",
      "MT371048.1\n",
      "Severe acute respiratory syndrome coronavirus 2 isolate SARS-CoV-2/human/LKA/COV53/2020, complete genome\n",
      "Severe acute respiratory syndrome coronavirus 2 (SARS-CoV-2) ✔️\n",
      "============================\n",
      "MT371047.1\n",
      "Severe acute respiratory syndrome coronavirus 2 isolate SARS-CoV-2/human/LKA/COV38/2020, complete genome\n",
      "Severe acute respiratory syndrome coronavirus 2 (SARS-CoV-2) ✔️\n",
      "============================\n",
      "MZ801830.1\n",
      "Severe acute respiratory syndrome coronavirus 2 isolate SARS-CoV-2/human/LKA/KDU9116/2021 ORF1ab polyprotein (ORF1ab), ORF1a polyprotein (ORF1ab), surface glycoprotein (S), ORF3a protein (ORF3a), envelope protein (E), membrane glycoprotein (M), and ORF6 protein (ORF6) genes, complete cds; ORF7a gene, complete sequence; and ORF7b (ORF7b), ORF8 protein (ORF8), nucleocapsid phosphoprotein (N), and ORF10 protein (ORF10) genes, complete cds\n",
      "Severe acute respiratory syndrome coronavirus 2 (SARS-CoV-2) ✔️\n",
      "============================\n",
      "OK035181.1\n",
      "Severe acute respiratory syndrome coronavirus 2 isolate SARS-CoV-2/human/LKA/KDU9114/2021, complete genome\n",
      "Severe acute respiratory syndrome coronavirus 2 (SARS-CoV-2) ✔️\n",
      "============================\n"
     ]
    }
   ],
   "source": [
    "genomes = []\n",
    "for id in ncbi_accession_ids:\n",
    "    print(id)\n",
    "    handle = Entrez.efetch(db='nucleotide', id=id, rettype='gb')\n",
    "    record = SeqIO.read(handle, \"genbank\")\n",
    "    handle.close()\n",
    "    print(record.description)\n",
    "    genomes.append(record)\n",
    "    print(record.annotations['source'] + \" ✔️\")\n",
    "    print(\"============================\")"
   ]
  },
  {
   "cell_type": "code",
   "execution_count": 5,
   "metadata": {},
   "outputs": [
    {
     "data": {
      "text/plain": [
       "7"
      ]
     },
     "execution_count": 5,
     "metadata": {},
     "output_type": "execute_result"
    }
   ],
   "source": [
    "SeqIO.write(genomes, \"./complete_genomes.fasta\", \"fasta\")"
   ]
  },
  {
   "cell_type": "code",
   "execution_count": 6,
   "metadata": {},
   "outputs": [],
   "source": [
    "characteristic_genes = ['orf1ab', 'spike', 'orf3a', 'orf3b', 'envelope', 'membrane', 'orf7a', 'orf7b', 'orf8', 'nucleocapsid']"
   ]
  },
  {
   "cell_type": "code",
   "execution_count": 7,
   "metadata": {},
   "outputs": [],
   "source": [
    "characteristic_genes_dict = {'orf1ab':[], 'spike':[],  'orf3a':[], 'orf3b':[], 'envelope':[], 'membrane':[], 'orf7a':[], 'orf7b':[], 'orf8':[], 'nucleocapsid':[],}"
   ]
  },
  {
   "cell_type": "code",
   "execution_count": 8,
   "metadata": {},
   "outputs": [
    {
     "name": "stdout",
     "output_type": "stream",
     "text": [
      "NC_045512.2\n",
      "orf1ab polyprotein ✔️\n",
      "orf3a protein ✔️\n",
      "envelope protein ✔️\n",
      "membrane glycoprotein ✔️\n",
      "orf7a protein ✔️\n",
      "orf7b ✔️\n",
      "orf8 protein ✔️\n",
      "nucleocapsid phosphoprotein ✔️\n",
      "=======================\n",
      "MT371050.1\n",
      "orf1ab polyprotein ✔️\n",
      "orf3a protein ✔️\n",
      "envelope protein ✔️\n",
      "membrane glycoprotein ✔️\n",
      "orf7a protein ✔️\n",
      "orf7b ✔️\n",
      "orf8 protein ✔️\n",
      "nucleocapsid phosphoprotein ✔️\n",
      "=======================\n",
      "MT371049.1\n",
      "orf1ab polyprotein ✔️\n",
      "orf3a protein ✔️\n",
      "envelope protein ✔️\n",
      "membrane glycoprotein ✔️\n",
      "orf7a protein ✔️\n",
      "orf7b ✔️\n",
      "orf8 protein ✔️\n",
      "nucleocapsid phosphoprotein ✔️\n",
      "=======================\n",
      "MT371048.1\n",
      "orf1ab polyprotein ✔️\n",
      "orf3a protein ✔️\n",
      "envelope protein ✔️\n",
      "membrane glycoprotein ✔️\n",
      "orf7a protein ✔️\n",
      "orf7b ✔️\n",
      "orf8 protein ✔️\n",
      "nucleocapsid phosphoprotein ✔️\n",
      "=======================\n",
      "MT371047.1\n",
      "orf1ab polyprotein ✔️\n",
      "orf3a protein ✔️\n",
      "envelope protein ✔️\n",
      "membrane glycoprotein ✔️\n",
      "orf7a protein ✔️\n",
      "orf7b ✔️\n",
      "orf8 protein ✔️\n",
      "nucleocapsid phosphoprotein ✔️\n",
      "=======================\n",
      "MZ801830.1\n",
      "orf1ab polyprotein ✔️\n",
      "orf3a protein ✔️\n",
      "envelope protein ✔️\n",
      "membrane glycoprotein ✔️\n",
      "orf7b ✔️\n",
      "orf8 protein ✔️\n",
      "nucleocapsid phosphoprotein ✔️\n",
      "=======================\n",
      "OK035181.1\n",
      "orf1ab polyprotein ✔️\n",
      "orf3a protein ✔️\n",
      "envelope protein ✔️\n",
      "membrane glycoprotein ✔️\n",
      "orf7a protein ✔️\n",
      "orf7b ✔️\n",
      "orf8 protein ✔️\n",
      "nucleocapsid phosphoprotein ✔️\n",
      "=======================\n"
     ]
    }
   ],
   "source": [
    "for id in ncbi_accession_ids:\n",
    "    print(id)\n",
    "    handle = Entrez.efetch(db='nucleotide', id=id, rettype='gb')\n",
    "    record = SeqIO.read(handle, \"genbank\")\n",
    "    handle.close()\n",
    "    for feature in record.features:\n",
    "        if(feature.type == 'CDS'):\n",
    "            gene = feature.qualifiers['product'][0].lower()\n",
    "            for characteristic_gene in characteristic_genes:\n",
    "                if characteristic_gene in gene:\n",
    "                    entry = f\">{record.annotations['source']} ({id}) \\n\"\n",
    "                    entry = entry.replace(\" \",\"-\")\n",
    "                    entry += record.seq[feature.location.start : feature.location.end]\n",
    "                    characteristic_genes_dict[characteristic_gene].append(entry)\n",
    "                    print(gene + \" ✔️\")\n",
    "                    break\n",
    "                    \n",
    "    print(\"=======================\")         \n"
   ]
  },
  {
   "cell_type": "code",
   "execution_count": 9,
   "metadata": {},
   "outputs": [
    {
     "data": {
      "text/plain": [
       "{'orf1ab': [Seq('>Severe-acute-respiratory-syndrome-coronavirus-2-(SARS...TAA'),\n",
       "  Seq('>Severe-acute-respiratory-syndrome-coronavirus-2-(SARS...TAA'),\n",
       "  Seq('>Severe-acute-respiratory-syndrome-coronavirus-2-(SARS...TAA'),\n",
       "  Seq('>Severe-acute-respiratory-syndrome-coronavirus-2-(SARS...TAA'),\n",
       "  Seq('>Severe-acute-respiratory-syndrome-coronavirus-2-(SARS...TAA'),\n",
       "  Seq('>Severe-acute-respiratory-syndrome-coronavirus-2-(SARS...TAA'),\n",
       "  Seq('>Severe-acute-respiratory-syndrome-coronavirus-2-(SARS...TAA')],\n",
       " 'spike': [],\n",
       " 'orf3a': [Seq('>Severe-acute-respiratory-syndrome-coronavirus-2-(SARS...TAA'),\n",
       "  Seq('>Severe-acute-respiratory-syndrome-coronavirus-2-(SARS...TAA'),\n",
       "  Seq('>Severe-acute-respiratory-syndrome-coronavirus-2-(SARS...TAA'),\n",
       "  Seq('>Severe-acute-respiratory-syndrome-coronavirus-2-(SARS...TAA'),\n",
       "  Seq('>Severe-acute-respiratory-syndrome-coronavirus-2-(SARS...TAA'),\n",
       "  Seq('>Severe-acute-respiratory-syndrome-coronavirus-2-(SARS...TAA'),\n",
       "  Seq('>Severe-acute-respiratory-syndrome-coronavirus-2-(SARS...TAA')],\n",
       " 'orf3b': [],\n",
       " 'envelope': [Seq('>Severe-acute-respiratory-syndrome-coronavirus-2-(SARS...TAA'),\n",
       "  Seq('>Severe-acute-respiratory-syndrome-coronavirus-2-(SARS...TAA'),\n",
       "  Seq('>Severe-acute-respiratory-syndrome-coronavirus-2-(SARS...TAA'),\n",
       "  Seq('>Severe-acute-respiratory-syndrome-coronavirus-2-(SARS...TAA'),\n",
       "  Seq('>Severe-acute-respiratory-syndrome-coronavirus-2-(SARS...TAA'),\n",
       "  Seq('>Severe-acute-respiratory-syndrome-coronavirus-2-(SARS...TAA'),\n",
       "  Seq('>Severe-acute-respiratory-syndrome-coronavirus-2-(SARS...TAA')],\n",
       " 'membrane': [Seq('>Severe-acute-respiratory-syndrome-coronavirus-2-(SARS...TAA'),\n",
       "  Seq('>Severe-acute-respiratory-syndrome-coronavirus-2-(SARS...TAA'),\n",
       "  Seq('>Severe-acute-respiratory-syndrome-coronavirus-2-(SARS...TAA'),\n",
       "  Seq('>Severe-acute-respiratory-syndrome-coronavirus-2-(SARS...TAA'),\n",
       "  Seq('>Severe-acute-respiratory-syndrome-coronavirus-2-(SARS...TAA'),\n",
       "  Seq('>Severe-acute-respiratory-syndrome-coronavirus-2-(SARS...TAA'),\n",
       "  Seq('>Severe-acute-respiratory-syndrome-coronavirus-2-(SARS...TAA')],\n",
       " 'orf7a': [Seq('>Severe-acute-respiratory-syndrome-coronavirus-2-(SARS...TGA'),\n",
       "  Seq('>Severe-acute-respiratory-syndrome-coronavirus-2-(SARS...TGA'),\n",
       "  Seq('>Severe-acute-respiratory-syndrome-coronavirus-2-(SARS...TGA'),\n",
       "  Seq('>Severe-acute-respiratory-syndrome-coronavirus-2-(SARS...TGA'),\n",
       "  Seq('>Severe-acute-respiratory-syndrome-coronavirus-2-(SARS...TGA'),\n",
       "  Seq('>Severe-acute-respiratory-syndrome-coronavirus-2-(SARS...TGA')],\n",
       " 'orf7b': [Seq('>Severe-acute-respiratory-syndrome-coronavirus-2-(SARS...TAA'),\n",
       "  Seq('>Severe-acute-respiratory-syndrome-coronavirus-2-(SARS...TAA'),\n",
       "  Seq('>Severe-acute-respiratory-syndrome-coronavirus-2-(SARS...TAA'),\n",
       "  Seq('>Severe-acute-respiratory-syndrome-coronavirus-2-(SARS...TAA'),\n",
       "  Seq('>Severe-acute-respiratory-syndrome-coronavirus-2-(SARS...TAA'),\n",
       "  Seq('>Severe-acute-respiratory-syndrome-coronavirus-2-(SARS...TAA'),\n",
       "  Seq('>Severe-acute-respiratory-syndrome-coronavirus-2-(SARS...TAA')],\n",
       " 'orf8': [Seq('>Severe-acute-respiratory-syndrome-coronavirus-2-(SARS...TAA'),\n",
       "  Seq('>Severe-acute-respiratory-syndrome-coronavirus-2-(SARS...TAA'),\n",
       "  Seq('>Severe-acute-respiratory-syndrome-coronavirus-2-(SARS...TAA'),\n",
       "  Seq('>Severe-acute-respiratory-syndrome-coronavirus-2-(SARS...TAA'),\n",
       "  Seq('>Severe-acute-respiratory-syndrome-coronavirus-2-(SARS...TAA'),\n",
       "  Seq('>Severe-acute-respiratory-syndrome-coronavirus-2-(SARS...TAA'),\n",
       "  Seq('>Severe-acute-respiratory-syndrome-coronavirus-2-(SARS...TAA')],\n",
       " 'nucleocapsid': [Seq('>Severe-acute-respiratory-syndrome-coronavirus-2-(SARS...TAA'),\n",
       "  Seq('>Severe-acute-respiratory-syndrome-coronavirus-2-(SARS...TAA'),\n",
       "  Seq('>Severe-acute-respiratory-syndrome-coronavirus-2-(SARS...TAA'),\n",
       "  Seq('>Severe-acute-respiratory-syndrome-coronavirus-2-(SARS...TAA'),\n",
       "  Seq('>Severe-acute-respiratory-syndrome-coronavirus-2-(SARS...TAA'),\n",
       "  Seq('>Severe-acute-respiratory-syndrome-coronavirus-2-(SARS...TAA'),\n",
       "  Seq('>Severe-acute-respiratory-syndrome-coronavirus-2-(SARS...TAA')]}"
      ]
     },
     "execution_count": 9,
     "metadata": {},
     "output_type": "execute_result"
    }
   ],
   "source": [
    "characteristic_genes_dict"
   ]
  },
  {
   "cell_type": "code",
   "execution_count": 13,
   "metadata": {},
   "outputs": [
    {
     "name": "stdout",
     "output_type": "stream",
     "text": [
      "orf1ab ✔️\n",
      "spike ✔️\n",
      "orf3a ✔️\n",
      "orf3b ✔️\n",
      "envelope ✔️\n",
      "membrane ✔️\n",
      "orf7a ✔️\n",
      "orf7b ✔️\n",
      "orf8 ✔️\n",
      "nucleocapsid ✔️\n"
     ]
    }
   ],
   "source": [
    "for characteristic_gene, sequences in characteristic_genes_dict.items():\n",
    "    \n",
    "    results = \"\"\n",
    "    for sequence in sequences:\n",
    "        results += sequence + \"\\n\"\n",
    "    \n",
    "    file = open(f'./gene_sequences/{characteristic_gene}.fasta', \"w\")\n",
    "    file.write(str(results))\n",
    "    file.close()\n",
    "    print(characteristic_gene + \" ✔️\")"
   ]
  },
  {
   "cell_type": "code",
   "execution_count": null,
   "metadata": {},
   "outputs": [],
   "source": []
  }
 ],
 "metadata": {
  "kernelspec": {
   "display_name": "Python 3",
   "language": "python",
   "name": "python3"
  },
  "language_info": {
   "codemirror_mode": {
    "name": "ipython",
    "version": 3
   },
   "file_extension": ".py",
   "mimetype": "text/x-python",
   "name": "python",
   "nbconvert_exporter": "python",
   "pygments_lexer": "ipython3",
   "version": "3.8.3"
  }
 },
 "nbformat": 4,
 "nbformat_minor": 4
}
