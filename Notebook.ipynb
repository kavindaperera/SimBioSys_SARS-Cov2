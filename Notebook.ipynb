{
 "cells": [
  {
   "cell_type": "code",
   "execution_count": 1,
   "metadata": {},
   "outputs": [],
   "source": [
    "import pandas as pd\n",
    "import numpy as np\n",
    "from Bio import SeqIO\n",
    "from Bio import Entrez"
   ]
  },
  {
   "cell_type": "code",
   "execution_count": 2,
   "metadata": {},
   "outputs": [],
   "source": [
    "ncbi_accession_ids = ['MT019529.1', 'GU190215.1', 'KJ473815.1', 'GQ153547.1', 'MN996532.1']"
   ]
  },
  {
   "cell_type": "code",
   "execution_count": 3,
   "metadata": {},
   "outputs": [],
   "source": [
    "Entrez.email='kavindaperera97@gmail.com'"
   ]
  },
  {
   "cell_type": "code",
   "execution_count": 4,
   "metadata": {},
   "outputs": [
    {
     "name": "stdout",
     "output_type": "stream",
     "text": [
      "MT019529.1\n",
      "Severe acute respiratory syndrome coronavirus 2 isolate BetaCoV/Wuhan/IPBCAMS-WH-01/2019, complete genome\n",
      "Severe acute respiratory syndrome coronavirus 2 (SARS-CoV-2) ✔️\n",
      "============================\n",
      "GU190215.1\n",
      "Bat coronavirus BM48-31/BGR/2008, complete genome\n",
      "Bat coronavirus BM48-31/BGR/2008 ✔️\n",
      "============================\n",
      "KJ473815.1\n",
      "BtRs-BetaCoV/GX2013, complete genome\n",
      "BtRs-BetaCoV/GX2013 ✔️\n",
      "============================\n",
      "GQ153547.1\n",
      "Bat SARS coronavirus HKU3-12, complete genome\n",
      "Bat SARS coronavirus HKU3-12 ✔️\n",
      "============================\n",
      "MN996532.1\n",
      "Bat coronavirus RaTG13, complete genome\n",
      "Bat coronavirus RaTG13 ✔️\n",
      "============================\n"
     ]
    }
   ],
   "source": [
    "genomes = []\n",
    "for id in ncbi_accession_ids:\n",
    "    print(id)\n",
    "    handle = Entrez.efetch(db='nucleotide', id=id, rettype='gb')\n",
    "    record = SeqIO.read(handle, \"genbank\")\n",
    "    handle.close()\n",
    "    print(record.description)\n",
    "    genomes.append(record)\n",
    "    print(record.annotations['source'] + \" ✔️\")\n",
    "    print(\"============================\")"
   ]
  },
  {
   "cell_type": "code",
   "execution_count": 5,
   "metadata": {},
   "outputs": [
    {
     "data": {
      "text/plain": [
       "5"
      ]
     },
     "execution_count": 5,
     "metadata": {},
     "output_type": "execute_result"
    }
   ],
   "source": [
    "SeqIO.write(genomes, \"./complete_genomes.fasta\", \"fasta\")"
   ]
  },
  {
   "cell_type": "code",
   "execution_count": 11,
   "metadata": {},
   "outputs": [],
   "source": [
    "characteristic_genes = ['orf1ab', 'spike', 'orf3a', 'orf3b', 'envelope', 'membrane', 'orf7a', 'orf7b', 'orf8', 'nucleocapsid', 'surface glycoprotein']"
   ]
  },
  {
   "cell_type": "code",
   "execution_count": 12,
   "metadata": {},
   "outputs": [],
   "source": [
    "characteristic_genes_dict = {'orf1ab':[], 'spike':[],  'orf3a':[], 'orf3b':[], 'envelope':[], 'membrane':[], 'orf7a':[], 'orf7b':[], 'orf8':[], 'nucleocapsid':[],}"
   ]
  },
  {
   "cell_type": "code",
   "execution_count": 13,
   "metadata": {},
   "outputs": [
    {
     "name": "stdout",
     "output_type": "stream",
     "text": [
      "MT019529.1\n",
      "orf1ab polyprotein ✔️\n",
      "surface glycoprotein ✔️\n",
      "orf3a protein ✔️\n",
      "envelope protein ✔️\n",
      "membrane glycoprotein ✔️\n",
      "orf7a protein ✔️\n",
      "orf8 protein ✔️\n",
      "nucleocapsid phosphoprotein ✔️\n",
      "=======================\n",
      "GU190215.1\n",
      "orf1ab ✔️\n",
      "spike protein ✔️\n",
      "envelope protein ✔️\n",
      "membrane protein ✔️\n",
      "orf7a ✔️\n",
      "orf7b ✔️\n",
      "nucleocapsid ✔️\n",
      "=======================\n",
      "KJ473815.1\n",
      "orf1ab polyprotein ✔️\n",
      "spike glycoprotein ✔️\n",
      "small envelope protein ✔️\n",
      "membrane glycoprotein ✔️\n",
      "hypothetical protein orf7a ✔️\n",
      "hypothetical protein orf7b ✔️\n",
      "hypothetical protein orf8 ✔️\n",
      "nucleocapsid protein ✔️\n",
      "=======================\n",
      "GQ153547.1\n",
      "orf1ab polyprotein ✔️\n",
      "spike glycoprotein ✔️\n",
      "small membrane protein ✔️\n",
      "membrane glycoprotein ✔️\n",
      "nucleocapsid phosphoprotein ✔️\n",
      "=======================\n",
      "MN996532.1\n",
      "orf1ab polyprotein ✔️\n",
      "spike glycoprotein ✔️\n",
      "envelope protein ✔️\n",
      "membrane protein ✔️\n",
      "nucleocapsid protein ✔️\n",
      "=======================\n"
     ]
    }
   ],
   "source": [
    "for id in ncbi_accession_ids:\n",
    "    print(id)\n",
    "    handle = Entrez.efetch(db='nucleotide', id=id, rettype='gb')\n",
    "    record = SeqIO.read(handle, \"genbank\")\n",
    "    handle.close()\n",
    "    for feature in record.features:\n",
    "        if(feature.type == 'CDS'):\n",
    "            gene = feature.qualifiers['product'][0].lower()\n",
    "            for characteristic_gene in characteristic_genes:\n",
    "                if characteristic_gene in gene: \n",
    "                    entry = f\">{record.annotations['source']} ({id}) \\n\"\n",
    "                    entry = entry.replace(\" \",\"-\")\n",
    "                    entry += record.seq[feature.location.start : feature.location.end] \n",
    "                    \n",
    "                    \n",
    "                    # surface glycoprotein is the spike protiend in SARS-Cov-2\n",
    "                    if characteristic_gene == \"surface glycoprotein\":\n",
    "                        characteristic_genes_dict[\"spike\"].append(entry)\n",
    "                        print(gene + \" ✔️\")\n",
    "                        break\n",
    "                        \n",
    "                    characteristic_genes_dict[characteristic_gene].append(entry)    \n",
    "                    print(gene + \" ✔️\")\n",
    "                    break\n",
    "                    \n",
    "    print(\"=======================\")         \n"
   ]
  },
  {
   "cell_type": "code",
   "execution_count": 14,
   "metadata": {},
   "outputs": [
    {
     "data": {
      "text/plain": [
       "{'orf1ab': [Seq('>Severe-acute-respiratory-syndrome-coronavirus-2-(SARS...TAA'),\n",
       "  Seq('>Bat-coronavirus-BM48-31/BGR/2008-(GU190215.1)-\n",
       "  ATGGAG...TAA'),\n",
       "  Seq('>BtRs-BetaCoV/GX2013-(KJ473815.1)-\n",
       "  ATGGAGAGCCTTGTTCTTG...TAA'),\n",
       "  Seq('>Bat-SARS-coronavirus-HKU3-12-(GQ153547.1)-\n",
       "  ATGGAGAGCC...TAA'),\n",
       "  Seq('>Bat-coronavirus-RaTG13-(MN996532.1)-\n",
       "  ATGGAGAGCCTTGTCC...TAA')],\n",
       " 'spike': [Seq('>Severe-acute-respiratory-syndrome-coronavirus-2-(SARS...TAA'),\n",
       "  Seq('>Bat-coronavirus-BM48-31/BGR/2008-(GU190215.1)-\n",
       "  ATGAAA...TAA'),\n",
       "  Seq('>BtRs-BetaCoV/GX2013-(KJ473815.1)-\n",
       "  ATGAAAATTTTAATTCTTG...TAA'),\n",
       "  Seq('>Bat-SARS-coronavirus-HKU3-12-(GQ153547.1)-\n",
       "  ATGAAAATTT...TAA'),\n",
       "  Seq('>Bat-coronavirus-RaTG13-(MN996532.1)-\n",
       "  ATGTTTGTTTTTCTTG...TAA')],\n",
       " 'orf3a': [Seq('>Severe-acute-respiratory-syndrome-coronavirus-2-(SARS...TAA')],\n",
       " 'orf3b': [],\n",
       " 'envelope': [Seq('>Severe-acute-respiratory-syndrome-coronavirus-2-(SARS...TAA'),\n",
       "  Seq('>Bat-coronavirus-BM48-31/BGR/2008-(GU190215.1)-\n",
       "  ATGTAC...TAA'),\n",
       "  Seq('>BtRs-BetaCoV/GX2013-(KJ473815.1)-\n",
       "  ATGTACTCATTCGTTTCGG...TAA'),\n",
       "  Seq('>Bat-coronavirus-RaTG13-(MN996532.1)-\n",
       "  ATGTACTCATTCGTTT...TAA')],\n",
       " 'membrane': [Seq('>Severe-acute-respiratory-syndrome-coronavirus-2-(SARS...TAA'),\n",
       "  Seq('>Bat-coronavirus-BM48-31/BGR/2008-(GU190215.1)-\n",
       "  ATGACT...TAA'),\n",
       "  Seq('>BtRs-BetaCoV/GX2013-(KJ473815.1)-\n",
       "  ATGGCAGACAACGGTACTA...TAA'),\n",
       "  Seq('>Bat-SARS-coronavirus-HKU3-12-(GQ153547.1)-\n",
       "  ATGTACTCAT...TAA'),\n",
       "  Seq('>Bat-SARS-coronavirus-HKU3-12-(GQ153547.1)-\n",
       "  ATGGCAGACA...TAA'),\n",
       "  Seq('>Bat-coronavirus-RaTG13-(MN996532.1)-\n",
       "  ATGGCAGATAACGGTA...TAA')],\n",
       " 'orf7a': [Seq('>Severe-acute-respiratory-syndrome-coronavirus-2-(SARS...TGA'),\n",
       "  Seq('>Bat-coronavirus-BM48-31/BGR/2008-(GU190215.1)-\n",
       "  ATGAAA...TGA'),\n",
       "  Seq('>BtRs-BetaCoV/GX2013-(KJ473815.1)-\n",
       "  ATGAAAATTATTCTCTTCT...TGA')],\n",
       " 'orf7b': [Seq('>Bat-coronavirus-BM48-31/BGR/2008-(GU190215.1)-\n",
       "  ATGATT...TAA'),\n",
       "  Seq('>BtRs-BetaCoV/GX2013-(KJ473815.1)-\n",
       "  ATGAATGAGCTCACTTTAA...TAA')],\n",
       " 'orf8': [Seq('>Severe-acute-respiratory-syndrome-coronavirus-2-(SARS...TAA'),\n",
       "  Seq('>BtRs-BetaCoV/GX2013-(KJ473815.1)-\n",
       "  ATGAAACTTCTCATTGTTT...TAA')],\n",
       " 'nucleocapsid': [Seq('>Severe-acute-respiratory-syndrome-coronavirus-2-(SARS...TAA'),\n",
       "  Seq('>Bat-coronavirus-BM48-31/BGR/2008-(GU190215.1)-\n",
       "  ATGACT...TAA'),\n",
       "  Seq('>BtRs-BetaCoV/GX2013-(KJ473815.1)-\n",
       "  ATGTCTGATAATGGACCCC...TAA'),\n",
       "  Seq('>Bat-SARS-coronavirus-HKU3-12-(GQ153547.1)-\n",
       "  ATGTCTGATA...TAA'),\n",
       "  Seq('>Bat-coronavirus-RaTG13-(MN996532.1)-\n",
       "  ATGTCTGATAATGGAC...TAA')]}"
      ]
     },
     "execution_count": 14,
     "metadata": {},
     "output_type": "execute_result"
    }
   ],
   "source": [
    "characteristic_genes_dict"
   ]
  },
  {
   "cell_type": "code",
   "execution_count": 15,
   "metadata": {},
   "outputs": [
    {
     "name": "stdout",
     "output_type": "stream",
     "text": [
      "orf1ab | count: 5 ✔️\n",
      "spike | count: 5 ✔️\n",
      "orf3a | count: 1 ✔️\n",
      "orf3b | count: 0 ✔️\n",
      "envelope | count: 4 ✔️\n",
      "membrane | count: 6 ✔️\n",
      "orf7a | count: 3 ✔️\n",
      "orf7b | count: 2 ✔️\n",
      "orf8 | count: 2 ✔️\n",
      "nucleocapsid | count: 5 ✔️\n"
     ]
    }
   ],
   "source": [
    "for characteristic_gene, sequences in characteristic_genes_dict.items():\n",
    "    \n",
    "    results = \"\"\n",
    "    for sequence in sequences:\n",
    "        results += sequence + \"\\n\"\n",
    "    \n",
    "    file = open(f'./gene_sequences/{characteristic_gene}.fasta', \"w\")\n",
    "    file.write(str(results))\n",
    "    file.close()\n",
    "    print(characteristic_gene + \" | count: \" + str(len(sequences)) + \" ✔️\")"
   ]
  },
  {
   "cell_type": "code",
   "execution_count": null,
   "metadata": {},
   "outputs": [],
   "source": []
  }
 ],
 "metadata": {
  "kernelspec": {
   "display_name": "Python 3",
   "language": "python",
   "name": "python3"
  },
  "language_info": {
   "codemirror_mode": {
    "name": "ipython",
    "version": 3
   },
   "file_extension": ".py",
   "mimetype": "text/x-python",
   "name": "python",
   "nbconvert_exporter": "python",
   "pygments_lexer": "ipython3",
   "version": "3.8.3"
  }
 },
 "nbformat": 4,
 "nbformat_minor": 4
}
