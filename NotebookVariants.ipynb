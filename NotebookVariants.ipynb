{
 "cells": [
  {
   "cell_type": "code",
   "execution_count": 2,
   "metadata": {},
   "outputs": [],
   "source": [
    "import pandas as pd\n",
    "import numpy as np\n",
    "from Bio import SeqIO\n",
    "from Bio import Entrez"
   ]
  },
  {
   "cell_type": "code",
   "execution_count": 6,
   "metadata": {},
   "outputs": [],
   "source": [
    "ncbi_accession_ids = ['MT019529.1', 'OK091006.1', 'OM287553.1', 'OM367886.1']"
   ]
  },
  {
   "cell_type": "code",
   "execution_count": 7,
   "metadata": {},
   "outputs": [],
   "source": [
    "Entrez.email='kavindaperera97@gmail.com'"
   ]
  },
  {
   "cell_type": "code",
   "execution_count": 9,
   "metadata": {},
   "outputs": [
    {
     "name": "stdout",
     "output_type": "stream",
     "text": [
      "MT019529.1\n",
      "Severe acute respiratory syndrome coronavirus 2 isolate BetaCoV/Wuhan/IPBCAMS-WH-01/2019, complete genome\n",
      "Severe acute respiratory syndrome coronavirus 2 (SARS-CoV-2) ✔️\n",
      "============================\n",
      "OK091006.1\n",
      "Severe acute respiratory syndrome coronavirus 2 isolate SARS-CoV-2/human/JPN/SARS-CoV-2, B.1.617.2 lineage, Delta variant/2021, complete genome\n",
      "Severe acute respiratory syndrome coronavirus 2 (SARS-CoV-2) ✔️\n",
      "============================\n",
      "OM287553.1\n",
      "Severe acute respiratory syndrome coronavirus 2 isolate SARS-CoV-2/human/NLD/EMC-Omicron-1/2021, complete genome\n",
      "Severe acute respiratory syndrome coronavirus 2 (SARS-CoV-2) ✔️\n",
      "============================\n",
      "OM367886.1\n",
      "Severe acute respiratory syndrome coronavirus 2 isolate SARS-CoV-2/human/CAN/NML_Gamma_P2/2021, complete genome\n",
      "Severe acute respiratory syndrome coronavirus 2 (SARS-CoV-2) ✔️\n",
      "============================\n"
     ]
    }
   ],
   "source": [
    "genomes = []\n",
    "for id in ncbi_accession_ids:\n",
    "    print(id)\n",
    "    handle = Entrez.efetch(db='nucleotide', id=id, rettype='gb')\n",
    "    record = SeqIO.read(handle, \"genbank\")\n",
    "    handle.close()\n",
    "    print(record.description)\n",
    "    genomes.append(record)\n",
    "    print(record.annotations['source'] + \" ✔️\")\n",
    "    print(\"============================\")"
   ]
  },
  {
   "cell_type": "code",
   "execution_count": 10,
   "metadata": {},
   "outputs": [
    {
     "data": {
      "text/plain": [
       "4"
      ]
     },
     "execution_count": 10,
     "metadata": {},
     "output_type": "execute_result"
    }
   ],
   "source": [
    "SeqIO.write(genomes, \"./complete_genomes_variants.fasta\", \"fasta\")"
   ]
  },
  {
   "cell_type": "code",
   "execution_count": 11,
   "metadata": {},
   "outputs": [],
   "source": [
    "characteristic_genes = ['orf1ab', 'spike', 'orf3a', 'orf3b', 'envelope', 'membrane', 'orf7a', 'orf7b', 'orf8', 'nucleocapsid', 'surface glycoprotein', 's protein','replicase polyprotein','non-structural polyprotein 1ab']"
   ]
  },
  {
   "cell_type": "code",
   "execution_count": 12,
   "metadata": {},
   "outputs": [],
   "source": [
    "characteristic_genes_dict = {'orf1ab':[], 'spike':[],  'orf3a':[], 'orf3b':[], 'envelope':[], 'membrane':[], 'orf7a':[], 'orf7b':[], 'orf8':[], 'nucleocapsid':[],}"
   ]
  },
  {
   "cell_type": "code",
   "execution_count": 13,
   "metadata": {},
   "outputs": [
    {
     "name": "stdout",
     "output_type": "stream",
     "text": [
      "MT019529.1\n",
      "orf1ab polyprotein ✔️\n",
      "surface glycoprotein ✔️\n",
      "orf3a protein ✔️\n",
      "envelope protein ✔️\n",
      "membrane glycoprotein ✔️\n",
      "orf7a protein ✔️\n",
      "orf8 protein ✔️\n",
      "nucleocapsid phosphoprotein ✔️\n",
      "=======================\n",
      "OK091006.1\n",
      "orf1ab polyprotein ✔️\n",
      "surface glycoprotein ✔️\n",
      "orf3a protein ✔️\n",
      "envelope protein ✔️\n",
      "membrane glycoprotein ✔️\n",
      "orf7a protein ✔️\n",
      "orf7b ✔️\n",
      "orf8 protein ✔️\n",
      "nucleocapsid phosphoprotein ✔️\n",
      "=======================\n",
      "OM287553.1\n",
      "orf1ab polyprotein ✔️\n",
      "surface glycoprotein ✔️\n",
      "orf3a protein ✔️\n",
      "envelope protein ✔️\n",
      "membrane glycoprotein ✔️\n",
      "orf7a protein ✔️\n",
      "orf7b ✔️\n",
      "orf8 protein ✔️\n",
      "nucleocapsid phosphoprotein ✔️\n",
      "=======================\n",
      "OM367886.1\n",
      "orf1ab polyprotein ✔️\n",
      "surface glycoprotein ✔️\n",
      "orf3a protein ✔️\n",
      "envelope protein ✔️\n",
      "membrane glycoprotein ✔️\n",
      "orf7a protein ✔️\n",
      "orf7b ✔️\n",
      "orf8 protein ✔️\n",
      "nucleocapsid phosphoprotein ✔️\n",
      "=======================\n"
     ]
    }
   ],
   "source": [
    "for id in ncbi_accession_ids:\n",
    "    print(id)\n",
    "    handle = Entrez.efetch(db='nucleotide', id=id, rettype='gb')\n",
    "    record = SeqIO.read(handle, \"genbank\")\n",
    "    handle.close()\n",
    "    for feature in record.features:\n",
    "        if(feature.type == 'CDS'):\n",
    "            gene = feature.qualifiers['product'][0].lower()\n",
    "            \n",
    "            for characteristic_gene in characteristic_genes:\n",
    "                if characteristic_gene in gene: \n",
    "                    entry = f\">{record.annotations['source']} ({id}) \\n\"\n",
    "                    entry = entry.replace(\" \",\"-\")\n",
    "                    entry += record.seq[feature.location.start : feature.location.end] \n",
    "                    \n",
    "                    # surface glycoprotein is the spike protien in SARS-Cov-2\n",
    "                    if characteristic_gene == \"surface glycoprotein\":\n",
    "                        characteristic_genes_dict[\"spike\"].append(entry)\n",
    "                        print(gene + \" ✔️\")\n",
    "                        break\n",
    "\n",
    "                    # S protein is the spike protein in HCoV-OC43\n",
    "                    if characteristic_gene == \"s protein\":\n",
    "                        characteristic_genes_dict[\"spike\"].append(entry)\n",
    "                        print(gene + \" ✔️\")\n",
    "                        break\n",
    "\n",
    "                    # replicase polyprotein is the orf1 in HCoV-OC43\n",
    "                    if characteristic_gene == \"replicase polyprotein\":\n",
    "                        characteristic_genes_dict[\"orf1ab\"].append(entry)\n",
    "                        print(gene + \" ✔️\")\n",
    "                        break\n",
    "\n",
    "                    # replicase polyprotein is the orf1 in HCoV-OC43\n",
    "                    if characteristic_gene == \"non-structural polyprotein 1ab\":\n",
    "                        characteristic_genes_dict[\"orf1ab\"].append(entry)\n",
    "                        print(gene + \" ✔️\")\n",
    "                        break\n",
    "                    \n",
    "\n",
    "                    characteristic_genes_dict[characteristic_gene].append(entry)    \n",
    "                    print(gene + \" ✔️\")\n",
    "                    break\n",
    "                    \n",
    "    print(\"=======================\")         \n"
   ]
  },
  {
   "cell_type": "code",
   "execution_count": 14,
   "metadata": {},
   "outputs": [
    {
     "data": {
      "text/plain": [
       "{'orf1ab': [Seq('>Severe-acute-respiratory-syndrome-coronavirus-2-(SARS...TAA'),\n",
       "  Seq('>Severe-acute-respiratory-syndrome-coronavirus-2-(SARS...TAA'),\n",
       "  Seq('>Severe-acute-respiratory-syndrome-coronavirus-2-(SARS...TAA'),\n",
       "  Seq('>Severe-acute-respiratory-syndrome-coronavirus-2-(SARS...TAA')],\n",
       " 'spike': [Seq('>Severe-acute-respiratory-syndrome-coronavirus-2-(SARS...TAA'),\n",
       "  Seq('>Severe-acute-respiratory-syndrome-coronavirus-2-(SARS...TAA'),\n",
       "  Seq('>Severe-acute-respiratory-syndrome-coronavirus-2-(SARS...TAA'),\n",
       "  Seq('>Severe-acute-respiratory-syndrome-coronavirus-2-(SARS...TAA')],\n",
       " 'orf3a': [Seq('>Severe-acute-respiratory-syndrome-coronavirus-2-(SARS...TAA'),\n",
       "  Seq('>Severe-acute-respiratory-syndrome-coronavirus-2-(SARS...TAA'),\n",
       "  Seq('>Severe-acute-respiratory-syndrome-coronavirus-2-(SARS...TAA'),\n",
       "  Seq('>Severe-acute-respiratory-syndrome-coronavirus-2-(SARS...TAA')],\n",
       " 'orf3b': [],\n",
       " 'envelope': [Seq('>Severe-acute-respiratory-syndrome-coronavirus-2-(SARS...TAA'),\n",
       "  Seq('>Severe-acute-respiratory-syndrome-coronavirus-2-(SARS...TAA'),\n",
       "  Seq('>Severe-acute-respiratory-syndrome-coronavirus-2-(SARS...TAA'),\n",
       "  Seq('>Severe-acute-respiratory-syndrome-coronavirus-2-(SARS...TAA')],\n",
       " 'membrane': [Seq('>Severe-acute-respiratory-syndrome-coronavirus-2-(SARS...TAA'),\n",
       "  Seq('>Severe-acute-respiratory-syndrome-coronavirus-2-(SARS...TAA'),\n",
       "  Seq('>Severe-acute-respiratory-syndrome-coronavirus-2-(SARS...TAA'),\n",
       "  Seq('>Severe-acute-respiratory-syndrome-coronavirus-2-(SARS...TAA')],\n",
       " 'orf7a': [Seq('>Severe-acute-respiratory-syndrome-coronavirus-2-(SARS...TGA'),\n",
       "  Seq('>Severe-acute-respiratory-syndrome-coronavirus-2-(SARS...TGA'),\n",
       "  Seq('>Severe-acute-respiratory-syndrome-coronavirus-2-(SARS...TGA'),\n",
       "  Seq('>Severe-acute-respiratory-syndrome-coronavirus-2-(SARS...TGA')],\n",
       " 'orf7b': [Seq('>Severe-acute-respiratory-syndrome-coronavirus-2-(SARS...TAA'),\n",
       "  Seq('>Severe-acute-respiratory-syndrome-coronavirus-2-(SARS...TAA'),\n",
       "  Seq('>Severe-acute-respiratory-syndrome-coronavirus-2-(SARS...TAA')],\n",
       " 'orf8': [Seq('>Severe-acute-respiratory-syndrome-coronavirus-2-(SARS...TAA'),\n",
       "  Seq('>Severe-acute-respiratory-syndrome-coronavirus-2-(SARS...TAA'),\n",
       "  Seq('>Severe-acute-respiratory-syndrome-coronavirus-2-(SARS...TAA'),\n",
       "  Seq('>Severe-acute-respiratory-syndrome-coronavirus-2-(SARS...TAA')],\n",
       " 'nucleocapsid': [Seq('>Severe-acute-respiratory-syndrome-coronavirus-2-(SARS...TAA'),\n",
       "  Seq('>Severe-acute-respiratory-syndrome-coronavirus-2-(SARS...TAA'),\n",
       "  Seq('>Severe-acute-respiratory-syndrome-coronavirus-2-(SARS...TAA'),\n",
       "  Seq('>Severe-acute-respiratory-syndrome-coronavirus-2-(SARS...TAA')]}"
      ]
     },
     "execution_count": 14,
     "metadata": {},
     "output_type": "execute_result"
    }
   ],
   "source": [
    "characteristic_genes_dict"
   ]
  },
  {
   "cell_type": "code",
   "execution_count": 16,
   "metadata": {},
   "outputs": [
    {
     "name": "stdout",
     "output_type": "stream",
     "text": [
      "orf1ab | count: 4 ✔️\n",
      "spike | count: 4 ✔️\n",
      "orf3a | count: 4 ✔️\n",
      "orf3b | count: 0 ✔️\n",
      "envelope | count: 4 ✔️\n",
      "membrane | count: 4 ✔️\n",
      "orf7a | count: 4 ✔️\n",
      "orf7b | count: 3 ✔️\n",
      "orf8 | count: 4 ✔️\n",
      "nucleocapsid | count: 4 ✔️\n"
     ]
    }
   ],
   "source": [
    "for characteristic_gene, sequences in characteristic_genes_dict.items():\n",
    "    \n",
    "    results = \"\"\n",
    "    for sequence in sequences:\n",
    "        results += sequence + \"\\n\"\n",
    "    \n",
    "    file = open(f'./gene_sequences_new_variants/{characteristic_gene}.fasta', \"w\")\n",
    "    file.write(str(results))\n",
    "    file.close()\n",
    "    print(characteristic_gene + \" | count: \" + str(len(sequences)) + \" ✔️\")"
   ]
  },
  {
   "cell_type": "code",
   "execution_count": null,
   "metadata": {},
   "outputs": [],
   "source": []
  }
 ],
 "metadata": {
  "interpreter": {
   "hash": "f7976576504ac6c456dadd405d7477574ca2a64265ee4724cfbc25daae5f6d94"
  },
  "kernelspec": {
   "display_name": "Python 3.9.10 64-bit",
   "language": "python",
   "name": "python3"
  },
  "language_info": {
   "codemirror_mode": {
    "name": "ipython",
    "version": 3
   },
   "file_extension": ".py",
   "mimetype": "text/x-python",
   "name": "python",
   "nbconvert_exporter": "python",
   "pygments_lexer": "ipython3",
   "version": "3.9.10"
  }
 },
 "nbformat": 4,
 "nbformat_minor": 4
}
